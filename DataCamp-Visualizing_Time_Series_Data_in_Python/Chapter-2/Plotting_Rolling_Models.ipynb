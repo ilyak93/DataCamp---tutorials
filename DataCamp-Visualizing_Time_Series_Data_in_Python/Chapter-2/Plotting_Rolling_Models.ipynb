{
 "cells": [
  {
   "cell_type": "markdown",
   "metadata": {
    "id": "QY9eEfm0MoUV"
   },
   "source": [
    "# Visualizing Time Series Data in Python"
   ]
  },
  {
   "cell_type": "markdown",
   "metadata": {
    "id": "nVUOXplYMuTt"
   },
   "source": [
    "## Plotting Rolling Models and Aggregate Values Model"
   ]
  },
  {
   "cell_type": "markdown",
   "metadata": {
    "id": "Cur7e2ZMS74B"
   },
   "source": [
    "## Importing the necessary libraries"
   ]
  },
  {
   "cell_type": "code",
   "execution_count": 1,
   "metadata": {
    "id": "ymtGtnrHMMPj"
   },
   "outputs": [],
   "source": [
    "import pandas as pd #for data manipulation\n",
    "import numpy as np  #for algebra\n",
    "import matplotlib.pyplot as plt  #for data visualization\n",
    "import seaborn as sns  #for data visualization\n",
    "plt.style.use('fivethirtyeight')  #setting the plotting style as \"fivethirtyeight\""
   ]
  },
  {
   "cell_type": "markdown",
   "metadata": {
    "id": "TzuduhJWTLdT"
   },
   "source": [
    "## Importing & Loading the dataset"
   ]
  },
  {
   "cell_type": "markdown",
   "metadata": {
    "id": "ZL9JbdlLTQ2X"
   },
   "source": [
    "### Knowing the dataset\n",
    "\n",
    "This time series dataset contains the CO2 measurements at the Mauna Loa Observatory, Hawaii between the years of 1958 and 2001."
   ]
  },
  {
   "cell_type": "markdown",
   "metadata": {
    "id": "GS0dpgUaTTEf"
   },
   "source": [
    "### Importing the dataset"
   ]
  },
  {
   "cell_type": "code",
   "execution_count": 2,
   "metadata": {
    "id": "P5bGJHn-NIcV"
   },
   "outputs": [],
   "source": [
    "path = './ch2_co2_levels.csv'"
   ]
  },
  {
   "cell_type": "markdown",
   "metadata": {
    "id": "6-CVOLGjTVWX"
   },
   "source": [
    "### Loading the dataset"
   ]
  },
  {
   "cell_type": "code",
   "execution_count": 3,
   "metadata": {
    "id": "cL8w8hdtNMxt"
   },
   "outputs": [],
   "source": [
    "df = pd.read_csv(path)"
   ]
  },
  {
   "cell_type": "markdown",
   "metadata": {
    "id": "P9fxhd8_TXOu"
   },
   "source": [
    "## Exploratory Data Analysis (EDA)"
   ]
  },
  {
   "cell_type": "markdown",
   "metadata": {
    "id": "uPqh1dpCmUID"
   },
   "source": [
    "The `shape` attribute of `pandas DataFrame` stores the number of rows and columns as a tuple (number of rows, number of columns)."
   ]
  },
  {
   "cell_type": "code",
   "execution_count": 4,
   "metadata": {
    "colab": {
     "base_uri": "https://localhost:8080/"
    },
    "id": "INqXoqkpNO--",
    "outputId": "6fe388d7-d4af-4978-befa-fce9dbe87da6"
   },
   "outputs": [
    {
     "data": {
      "text/plain": [
       "(2284, 2)"
      ]
     },
     "execution_count": 4,
     "metadata": {},
     "output_type": "execute_result"
    }
   ],
   "source": [
    "df.shape"
   ]
  },
  {
   "cell_type": "markdown",
   "metadata": {
    "id": "Z23286a2mcbv"
   },
   "source": [
    "`df.head()` - Displays the first 5 rows of the dataframe"
   ]
  },
  {
   "cell_type": "code",
   "execution_count": 5,
   "metadata": {
    "colab": {
     "base_uri": "https://localhost:8080/",
     "height": 202
    },
    "id": "b01ilMUWNRVV",
    "outputId": "85253df2-2ccf-4d2e-ad66-213d970f7934"
   },
   "outputs": [
    {
     "data": {
      "text/html": [
       "<div>\n",
       "<style scoped>\n",
       "    .dataframe tbody tr th:only-of-type {\n",
       "        vertical-align: middle;\n",
       "    }\n",
       "\n",
       "    .dataframe tbody tr th {\n",
       "        vertical-align: top;\n",
       "    }\n",
       "\n",
       "    .dataframe thead th {\n",
       "        text-align: right;\n",
       "    }\n",
       "</style>\n",
       "<table border=\"1\" class=\"dataframe\">\n",
       "  <thead>\n",
       "    <tr style=\"text-align: right;\">\n",
       "      <th></th>\n",
       "      <th>datestamp</th>\n",
       "      <th>co2</th>\n",
       "    </tr>\n",
       "  </thead>\n",
       "  <tbody>\n",
       "    <tr>\n",
       "      <th>0</th>\n",
       "      <td>1958-03-29</td>\n",
       "      <td>316.1</td>\n",
       "    </tr>\n",
       "    <tr>\n",
       "      <th>1</th>\n",
       "      <td>1958-04-05</td>\n",
       "      <td>317.3</td>\n",
       "    </tr>\n",
       "    <tr>\n",
       "      <th>2</th>\n",
       "      <td>1958-04-12</td>\n",
       "      <td>317.6</td>\n",
       "    </tr>\n",
       "    <tr>\n",
       "      <th>3</th>\n",
       "      <td>1958-04-19</td>\n",
       "      <td>317.5</td>\n",
       "    </tr>\n",
       "    <tr>\n",
       "      <th>4</th>\n",
       "      <td>1958-04-26</td>\n",
       "      <td>316.4</td>\n",
       "    </tr>\n",
       "  </tbody>\n",
       "</table>\n",
       "</div>"
      ],
      "text/plain": [
       "    datestamp    co2\n",
       "0  1958-03-29  316.1\n",
       "1  1958-04-05  317.3\n",
       "2  1958-04-12  317.6\n",
       "3  1958-04-19  317.5\n",
       "4  1958-04-26  316.4"
      ]
     },
     "execution_count": 5,
     "metadata": {},
     "output_type": "execute_result"
    }
   ],
   "source": [
    "df.head()"
   ]
  },
  {
   "cell_type": "markdown",
   "metadata": {
    "id": "x57Ko_35mjBJ"
   },
   "source": [
    "The `info()` method of `pandas DataFrame` displays information such as the number of rows and columns, the total memory usage, the data type of each column, and the number of non-NaN elements."
   ]
  },
  {
   "cell_type": "code",
   "execution_count": 6,
   "metadata": {
    "colab": {
     "base_uri": "https://localhost:8080/"
    },
    "id": "MU4OxxNgNTcF",
    "outputId": "2d17071d-2d1a-42d9-8148-963d928b3a51"
   },
   "outputs": [
    {
     "name": "stdout",
     "output_type": "stream",
     "text": [
      "<class 'pandas.core.frame.DataFrame'>\n",
      "RangeIndex: 2284 entries, 0 to 2283\n",
      "Data columns (total 2 columns):\n",
      " #   Column     Non-Null Count  Dtype  \n",
      "---  ------     --------------  -----  \n",
      " 0   datestamp  2284 non-null   object \n",
      " 1   co2        2225 non-null   float64\n",
      "dtypes: float64(1), object(1)\n",
      "memory usage: 35.8+ KB\n"
     ]
    }
   ],
   "source": [
    "df.info()"
   ]
  },
  {
   "cell_type": "markdown",
   "metadata": {
    "id": "-vMg6W7DmuPu"
   },
   "source": [
    "The `describe()` method is used for calculating some statistical data like percentile, mean and std of the numerical values of the dataframe."
   ]
  },
  {
   "cell_type": "code",
   "execution_count": 7,
   "metadata": {
    "colab": {
     "base_uri": "https://localhost:8080/",
     "height": 294
    },
    "id": "nGmHxLSCNV-m",
    "outputId": "cc5c128b-4d8a-40ed-fc2a-46be768ee9d1"
   },
   "outputs": [
    {
     "data": {
      "text/html": [
       "<div>\n",
       "<style scoped>\n",
       "    .dataframe tbody tr th:only-of-type {\n",
       "        vertical-align: middle;\n",
       "    }\n",
       "\n",
       "    .dataframe tbody tr th {\n",
       "        vertical-align: top;\n",
       "    }\n",
       "\n",
       "    .dataframe thead th {\n",
       "        text-align: right;\n",
       "    }\n",
       "</style>\n",
       "<table border=\"1\" class=\"dataframe\">\n",
       "  <thead>\n",
       "    <tr style=\"text-align: right;\">\n",
       "      <th></th>\n",
       "      <th>co2</th>\n",
       "    </tr>\n",
       "  </thead>\n",
       "  <tbody>\n",
       "    <tr>\n",
       "      <th>count</th>\n",
       "      <td>2225.000000</td>\n",
       "    </tr>\n",
       "    <tr>\n",
       "      <th>mean</th>\n",
       "      <td>340.142247</td>\n",
       "    </tr>\n",
       "    <tr>\n",
       "      <th>std</th>\n",
       "      <td>17.003885</td>\n",
       "    </tr>\n",
       "    <tr>\n",
       "      <th>min</th>\n",
       "      <td>313.000000</td>\n",
       "    </tr>\n",
       "    <tr>\n",
       "      <th>25%</th>\n",
       "      <td>324.800000</td>\n",
       "    </tr>\n",
       "    <tr>\n",
       "      <th>50%</th>\n",
       "      <td>338.300000</td>\n",
       "    </tr>\n",
       "    <tr>\n",
       "      <th>75%</th>\n",
       "      <td>354.800000</td>\n",
       "    </tr>\n",
       "    <tr>\n",
       "      <th>max</th>\n",
       "      <td>373.900000</td>\n",
       "    </tr>\n",
       "  </tbody>\n",
       "</table>\n",
       "</div>"
      ],
      "text/plain": [
       "               co2\n",
       "count  2225.000000\n",
       "mean    340.142247\n",
       "std      17.003885\n",
       "min     313.000000\n",
       "25%     324.800000\n",
       "50%     338.300000\n",
       "75%     354.800000\n",
       "max     373.900000"
      ]
     },
     "execution_count": 7,
     "metadata": {},
     "output_type": "execute_result"
    }
   ],
   "source": [
    "df.describe()"
   ]
  },
  {
   "cell_type": "markdown",
   "metadata": {
    "id": "8mAZjZawmyV1"
   },
   "source": [
    "Converting the dtype of `datestamp` column in the dataframe"
   ]
  },
  {
   "cell_type": "code",
   "execution_count": 8,
   "metadata": {
    "id": "qiRt4Q-MQzGP"
   },
   "outputs": [],
   "source": [
    "df['datestamp'] = pd.to_datetime(df['datestamp'])"
   ]
  },
  {
   "cell_type": "markdown",
   "metadata": {
    "id": "ZnZ3volum5a2"
   },
   "source": [
    "Setting the `datestamp` column as the index of the dataframe"
   ]
  },
  {
   "cell_type": "code",
   "execution_count": 9,
   "metadata": {
    "id": "c0me8hz1NYJm"
   },
   "outputs": [],
   "source": [
    "df = df.set_index('datestamp')"
   ]
  },
  {
   "cell_type": "markdown",
   "metadata": {
    "id": "3g6B5oXxm-hS"
   },
   "source": [
    "Rechecking the dataframe that our conversion works or not"
   ]
  },
  {
   "cell_type": "code",
   "execution_count": 10,
   "metadata": {
    "colab": {
     "base_uri": "https://localhost:8080/"
    },
    "id": "EgGM9ShuNqj1",
    "outputId": "75a494c9-c653-42ef-8b17-02885f54f1ac"
   },
   "outputs": [
    {
     "name": "stdout",
     "output_type": "stream",
     "text": [
      "<class 'pandas.core.frame.DataFrame'>\n",
      "DatetimeIndex: 2284 entries, 1958-03-29 to 2001-12-29\n",
      "Data columns (total 1 columns):\n",
      " #   Column  Non-Null Count  Dtype  \n",
      "---  ------  --------------  -----  \n",
      " 0   co2     2225 non-null   float64\n",
      "dtypes: float64(1)\n",
      "memory usage: 35.7 KB\n"
     ]
    }
   ],
   "source": [
    "df.info()"
   ]
  },
  {
   "cell_type": "markdown",
   "metadata": {
    "id": "O2YYB5L8nNHm"
   },
   "source": [
    "## Dealing with Missing values"
   ]
  },
  {
   "cell_type": "markdown",
   "metadata": {
    "id": "eJM0ZCGrnSJ1"
   },
   "source": [
    "### Finding missing values\n",
    "\n",
    "In the field of Data Science, it is common to encounter datasets with missing values. This is especially true in the case of time series data, where missing values can occur if a measurement fails to record the value at a specific timestamp"
   ]
  },
  {
   "cell_type": "markdown",
   "metadata": {
    "id": "PT7QxAfcnZC-"
   },
   "source": [
    "`df.isnull()` is used to check NULL values in the dataframe.\n",
    "\n",
    "It gives True for every NULL value and False for a NOT NULL values."
   ]
  },
  {
   "cell_type": "code",
   "execution_count": 11,
   "metadata": {
    "colab": {
     "base_uri": "https://localhost:8080/",
     "height": 446
    },
    "id": "lvbkluLtNr-X",
    "outputId": "7aa01d44-0d48-4955-ce92-c836238dd956"
   },
   "outputs": [
    {
     "data": {
      "text/html": [
       "<div>\n",
       "<style scoped>\n",
       "    .dataframe tbody tr th:only-of-type {\n",
       "        vertical-align: middle;\n",
       "    }\n",
       "\n",
       "    .dataframe tbody tr th {\n",
       "        vertical-align: top;\n",
       "    }\n",
       "\n",
       "    .dataframe thead th {\n",
       "        text-align: right;\n",
       "    }\n",
       "</style>\n",
       "<table border=\"1\" class=\"dataframe\">\n",
       "  <thead>\n",
       "    <tr style=\"text-align: right;\">\n",
       "      <th></th>\n",
       "      <th>co2</th>\n",
       "    </tr>\n",
       "    <tr>\n",
       "      <th>datestamp</th>\n",
       "      <th></th>\n",
       "    </tr>\n",
       "  </thead>\n",
       "  <tbody>\n",
       "    <tr>\n",
       "      <th>1958-03-29</th>\n",
       "      <td>False</td>\n",
       "    </tr>\n",
       "    <tr>\n",
       "      <th>1958-04-05</th>\n",
       "      <td>False</td>\n",
       "    </tr>\n",
       "    <tr>\n",
       "      <th>1958-04-12</th>\n",
       "      <td>False</td>\n",
       "    </tr>\n",
       "    <tr>\n",
       "      <th>1958-04-19</th>\n",
       "      <td>False</td>\n",
       "    </tr>\n",
       "    <tr>\n",
       "      <th>1958-04-26</th>\n",
       "      <td>False</td>\n",
       "    </tr>\n",
       "    <tr>\n",
       "      <th>...</th>\n",
       "      <td>...</td>\n",
       "    </tr>\n",
       "    <tr>\n",
       "      <th>2001-12-01</th>\n",
       "      <td>False</td>\n",
       "    </tr>\n",
       "    <tr>\n",
       "      <th>2001-12-08</th>\n",
       "      <td>False</td>\n",
       "    </tr>\n",
       "    <tr>\n",
       "      <th>2001-12-15</th>\n",
       "      <td>False</td>\n",
       "    </tr>\n",
       "    <tr>\n",
       "      <th>2001-12-22</th>\n",
       "      <td>False</td>\n",
       "    </tr>\n",
       "    <tr>\n",
       "      <th>2001-12-29</th>\n",
       "      <td>False</td>\n",
       "    </tr>\n",
       "  </tbody>\n",
       "</table>\n",
       "<p>2284 rows × 1 columns</p>\n",
       "</div>"
      ],
      "text/plain": [
       "              co2\n",
       "datestamp        \n",
       "1958-03-29  False\n",
       "1958-04-05  False\n",
       "1958-04-12  False\n",
       "1958-04-19  False\n",
       "1958-04-26  False\n",
       "...           ...\n",
       "2001-12-01  False\n",
       "2001-12-08  False\n",
       "2001-12-15  False\n",
       "2001-12-22  False\n",
       "2001-12-29  False\n",
       "\n",
       "[2284 rows x 1 columns]"
      ]
     },
     "execution_count": 11,
     "metadata": {},
     "output_type": "execute_result"
    }
   ],
   "source": [
    "df.isnull()"
   ]
  },
  {
   "cell_type": "markdown",
   "metadata": {
    "id": "4ZA5dhPOoEEO"
   },
   "source": [
    "`df.notnull()` is also used to check and manage NULL values in the dataframe.\n",
    "\n",
    "It returns True for every NON-NULL value and False for a NULL value."
   ]
  },
  {
   "cell_type": "code",
   "execution_count": 12,
   "metadata": {
    "colab": {
     "base_uri": "https://localhost:8080/",
     "height": 446
    },
    "id": "lqYA2GtxNuRg",
    "outputId": "760a54d8-adfc-4b97-b85c-008fa44c9912"
   },
   "outputs": [
    {
     "data": {
      "text/html": [
       "<div>\n",
       "<style scoped>\n",
       "    .dataframe tbody tr th:only-of-type {\n",
       "        vertical-align: middle;\n",
       "    }\n",
       "\n",
       "    .dataframe tbody tr th {\n",
       "        vertical-align: top;\n",
       "    }\n",
       "\n",
       "    .dataframe thead th {\n",
       "        text-align: right;\n",
       "    }\n",
       "</style>\n",
       "<table border=\"1\" class=\"dataframe\">\n",
       "  <thead>\n",
       "    <tr style=\"text-align: right;\">\n",
       "      <th></th>\n",
       "      <th>co2</th>\n",
       "    </tr>\n",
       "    <tr>\n",
       "      <th>datestamp</th>\n",
       "      <th></th>\n",
       "    </tr>\n",
       "  </thead>\n",
       "  <tbody>\n",
       "    <tr>\n",
       "      <th>1958-03-29</th>\n",
       "      <td>True</td>\n",
       "    </tr>\n",
       "    <tr>\n",
       "      <th>1958-04-05</th>\n",
       "      <td>True</td>\n",
       "    </tr>\n",
       "    <tr>\n",
       "      <th>1958-04-12</th>\n",
       "      <td>True</td>\n",
       "    </tr>\n",
       "    <tr>\n",
       "      <th>1958-04-19</th>\n",
       "      <td>True</td>\n",
       "    </tr>\n",
       "    <tr>\n",
       "      <th>1958-04-26</th>\n",
       "      <td>True</td>\n",
       "    </tr>\n",
       "    <tr>\n",
       "      <th>...</th>\n",
       "      <td>...</td>\n",
       "    </tr>\n",
       "    <tr>\n",
       "      <th>2001-12-01</th>\n",
       "      <td>True</td>\n",
       "    </tr>\n",
       "    <tr>\n",
       "      <th>2001-12-08</th>\n",
       "      <td>True</td>\n",
       "    </tr>\n",
       "    <tr>\n",
       "      <th>2001-12-15</th>\n",
       "      <td>True</td>\n",
       "    </tr>\n",
       "    <tr>\n",
       "      <th>2001-12-22</th>\n",
       "      <td>True</td>\n",
       "    </tr>\n",
       "    <tr>\n",
       "      <th>2001-12-29</th>\n",
       "      <td>True</td>\n",
       "    </tr>\n",
       "  </tbody>\n",
       "</table>\n",
       "<p>2284 rows × 1 columns</p>\n",
       "</div>"
      ],
      "text/plain": [
       "             co2\n",
       "datestamp       \n",
       "1958-03-29  True\n",
       "1958-04-05  True\n",
       "1958-04-12  True\n",
       "1958-04-19  True\n",
       "1958-04-26  True\n",
       "...          ...\n",
       "2001-12-01  True\n",
       "2001-12-08  True\n",
       "2001-12-15  True\n",
       "2001-12-22  True\n",
       "2001-12-29  True\n",
       "\n",
       "[2284 rows x 1 columns]"
      ]
     },
     "execution_count": 12,
     "metadata": {},
     "output_type": "execute_result"
    }
   ],
   "source": [
    "df.notnull()"
   ]
  },
  {
   "cell_type": "markdown",
   "metadata": {
    "id": "Phh-RU11oXep"
   },
   "source": [
    "`df.isnull().sum()` - Counts the number of null values in each column of the dataframe."
   ]
  },
  {
   "cell_type": "code",
   "execution_count": 13,
   "metadata": {
    "colab": {
     "base_uri": "https://localhost:8080/"
    },
    "id": "wLv73WiUNzTu",
    "outputId": "645d048f-3fa8-450c-c01f-20f215e4026f"
   },
   "outputs": [
    {
     "data": {
      "text/plain": [
       "co2    59\n",
       "dtype: int64"
      ]
     },
     "execution_count": 13,
     "metadata": {},
     "output_type": "execute_result"
    }
   ],
   "source": [
    "df.isnull().sum()"
   ]
  },
  {
   "cell_type": "code",
   "execution_count": 47,
   "metadata": {
    "colab": {
     "base_uri": "https://localhost:8080/",
     "height": 386
    },
    "id": "66U6_AXAN5En",
    "outputId": "b7361998-7700-4acb-dc9c-806793050407"
   },
   "outputs": [
    {
     "data": {
      "text/html": [
       "<div>\n",
       "<style scoped>\n",
       "    .dataframe tbody tr th:only-of-type {\n",
       "        vertical-align: middle;\n",
       "    }\n",
       "\n",
       "    .dataframe tbody tr th {\n",
       "        vertical-align: top;\n",
       "    }\n",
       "\n",
       "    .dataframe thead th {\n",
       "        text-align: right;\n",
       "    }\n",
       "</style>\n",
       "<table border=\"1\" class=\"dataframe\">\n",
       "  <thead>\n",
       "    <tr style=\"text-align: right;\">\n",
       "      <th></th>\n",
       "      <th>co2</th>\n",
       "    </tr>\n",
       "    <tr>\n",
       "      <th>datestamp</th>\n",
       "      <th></th>\n",
       "    </tr>\n",
       "  </thead>\n",
       "  <tbody>\n",
       "    <tr>\n",
       "      <th>1958-03-29</th>\n",
       "      <td>316.1</td>\n",
       "    </tr>\n",
       "    <tr>\n",
       "      <th>1958-04-05</th>\n",
       "      <td>317.3</td>\n",
       "    </tr>\n",
       "    <tr>\n",
       "      <th>1958-04-12</th>\n",
       "      <td>317.6</td>\n",
       "    </tr>\n",
       "    <tr>\n",
       "      <th>1958-04-19</th>\n",
       "      <td>317.5</td>\n",
       "    </tr>\n",
       "    <tr>\n",
       "      <th>1958-04-26</th>\n",
       "      <td>316.4</td>\n",
       "    </tr>\n",
       "    <tr>\n",
       "      <th>1958-05-03</th>\n",
       "      <td>316.9</td>\n",
       "    </tr>\n",
       "    <tr>\n",
       "      <th>1958-05-10</th>\n",
       "      <td>NaN</td>\n",
       "    </tr>\n",
       "    <tr>\n",
       "      <th>1958-05-17</th>\n",
       "      <td>317.5</td>\n",
       "    </tr>\n",
       "    <tr>\n",
       "      <th>1958-05-24</th>\n",
       "      <td>317.9</td>\n",
       "    </tr>\n",
       "    <tr>\n",
       "      <th>1958-05-31</th>\n",
       "      <td>NaN</td>\n",
       "    </tr>\n",
       "  </tbody>\n",
       "</table>\n",
       "</div>"
      ],
      "text/plain": [
       "              co2\n",
       "datestamp        \n",
       "1958-03-29  316.1\n",
       "1958-04-05  317.3\n",
       "1958-04-12  317.6\n",
       "1958-04-19  317.5\n",
       "1958-04-26  316.4\n",
       "1958-05-03  316.9\n",
       "1958-05-10    NaN\n",
       "1958-05-17  317.5\n",
       "1958-05-24  317.9\n",
       "1958-05-31    NaN"
      ]
     },
     "execution_count": 47,
     "metadata": {
      "tags": []
     },
     "output_type": "execute_result"
    }
   ],
   "source": [
    "df.head(10)"
   ]
  },
  {
   "cell_type": "markdown",
   "metadata": {
    "id": "UMNrQtrkosQf"
   },
   "source": [
    "### Handling Missing Data"
   ]
  },
  {
   "cell_type": "markdown",
   "metadata": {
    "id": "NmelSUHXozvJ"
   },
   "source": [
    "We are filling the missing values in our dataset with `bfill` (backfilling) method.\n",
    "\n",
    "In this method, missing values are replaced using the next valid observation in the dataset."
   ]
  },
  {
   "cell_type": "code",
   "execution_count": 18,
   "metadata": {
    "id": "VMAfhYsPPpr0"
   },
   "outputs": [],
   "source": [
    "df.fillna(method='bfill', inplace=True)"
   ]
  },
  {
   "cell_type": "code",
   "execution_count": 25,
   "metadata": {},
   "outputs": [
    {
     "data": {
      "text/plain": [
       "co2    0\n",
       "dtype: int64"
      ]
     },
     "execution_count": 25,
     "metadata": {},
     "output_type": "execute_result"
    }
   ],
   "source": [
    "df.isnull().sum()"
   ]
  },
  {
   "cell_type": "code",
   "execution_count": 19,
   "metadata": {
    "colab": {
     "base_uri": "https://localhost:8080/",
     "height": 386
    },
    "id": "R_RXYNEoPt-k",
    "outputId": "1cf8c4b0-99e9-4f4b-bed0-93a754595210"
   },
   "outputs": [
    {
     "data": {
      "text/html": [
       "<div>\n",
       "<style scoped>\n",
       "    .dataframe tbody tr th:only-of-type {\n",
       "        vertical-align: middle;\n",
       "    }\n",
       "\n",
       "    .dataframe tbody tr th {\n",
       "        vertical-align: top;\n",
       "    }\n",
       "\n",
       "    .dataframe thead th {\n",
       "        text-align: right;\n",
       "    }\n",
       "</style>\n",
       "<table border=\"1\" class=\"dataframe\">\n",
       "  <thead>\n",
       "    <tr style=\"text-align: right;\">\n",
       "      <th></th>\n",
       "      <th>co2</th>\n",
       "    </tr>\n",
       "    <tr>\n",
       "      <th>datestamp</th>\n",
       "      <th></th>\n",
       "    </tr>\n",
       "  </thead>\n",
       "  <tbody>\n",
       "    <tr>\n",
       "      <th>1958-03-29</th>\n",
       "      <td>316.1</td>\n",
       "    </tr>\n",
       "    <tr>\n",
       "      <th>1958-04-05</th>\n",
       "      <td>317.3</td>\n",
       "    </tr>\n",
       "    <tr>\n",
       "      <th>1958-04-12</th>\n",
       "      <td>317.6</td>\n",
       "    </tr>\n",
       "    <tr>\n",
       "      <th>1958-04-19</th>\n",
       "      <td>317.5</td>\n",
       "    </tr>\n",
       "    <tr>\n",
       "      <th>1958-04-26</th>\n",
       "      <td>316.4</td>\n",
       "    </tr>\n",
       "    <tr>\n",
       "      <th>1958-05-03</th>\n",
       "      <td>316.9</td>\n",
       "    </tr>\n",
       "    <tr>\n",
       "      <th>1958-05-10</th>\n",
       "      <td>317.5</td>\n",
       "    </tr>\n",
       "    <tr>\n",
       "      <th>1958-05-17</th>\n",
       "      <td>317.5</td>\n",
       "    </tr>\n",
       "    <tr>\n",
       "      <th>1958-05-24</th>\n",
       "      <td>317.9</td>\n",
       "    </tr>\n",
       "    <tr>\n",
       "      <th>1958-05-31</th>\n",
       "      <td>315.8</td>\n",
       "    </tr>\n",
       "  </tbody>\n",
       "</table>\n",
       "</div>"
      ],
      "text/plain": [
       "              co2\n",
       "datestamp        \n",
       "1958-03-29  316.1\n",
       "1958-04-05  317.3\n",
       "1958-04-12  317.6\n",
       "1958-04-19  317.5\n",
       "1958-04-26  316.4\n",
       "1958-05-03  316.9\n",
       "1958-05-10  317.5\n",
       "1958-05-17  317.5\n",
       "1958-05-24  317.9\n",
       "1958-05-31  315.8"
      ]
     },
     "execution_count": 19,
     "metadata": {},
     "output_type": "execute_result"
    }
   ],
   "source": [
    "df.head(10)"
   ]
  },
  {
   "cell_type": "markdown",
   "metadata": {
    "id": "cqZkci5zpPyz"
   },
   "source": [
    "## Plotting Rolling Models"
   ]
  },
  {
   "cell_type": "markdown",
   "metadata": {
    "id": "Mto5NhcuphDa"
   },
   "source": [
    "### Moving Average Model"
   ]
  },
  {
   "cell_type": "markdown",
   "metadata": {
    "id": "Tu-LzD3mpuzo"
   },
   "source": [
    "Computing the 52 weeks rolling mean of the co2_levels.\n",
    "\n",
    "And then plotting the rolling mean."
   ]
  },
  {
   "cell_type": "code",
   "execution_count": 22,
   "metadata": {
    "colab": {
     "base_uri": "https://localhost:8080/",
     "height": 304
    },
    "id": "5SFwpPQxPz62",
    "outputId": "d6731fe3-cf59-4946-dc52-9fa47350c178"
   },
   "outputs": [
    {
     "data": {
      "image/png": "[encoded data removed]",
      "text/plain": [
       "<Figure size 576x288 with 1 Axes>"
      ]
     },
     "metadata": {},
     "output_type": "display_data"
    }
   ],
   "source": [
    "df1 = df.rolling(window=52).mean()\n",
    "\n",
    "ax = df1.plot(figsize=(8,4))\n",
    "\n",
    "ax.set_title('Moving Average Model')\n",
    "ax.set_xlabel('Date')\n",
    "ax.set_ylabel('CO2 Levels')\n",
    "plt.show()"
   ]
  },
  {
   "cell_type": "markdown",
   "metadata": {
    "id": "FM1IScR4tlnG"
   },
   "source": [
    "### Rolling Mean and Variance"
   ]
  },
  {
   "cell_type": "code",
   "execution_count": 28,
   "metadata": {
    "colab": {
     "base_uri": "https://localhost:8080/",
     "height": 325
    },
    "id": "B5E9e4siqNgp",
    "outputId": "9b597ac3-798f-4c9d-a946-962351581fe3"
   },
   "outputs": [
    {
     "data": {
      "image/png": "[encoded data removed]",
      "text/plain": [
       "<Figure size 576x288 with 1 Axes>"
      ]
     },
     "metadata": {},
     "output_type": "display_data"
    }
   ],
   "source": [
    "df1 = df.rolling(window=52).mean()\n",
    "df2 = df.rolling(window=52).std()\n",
    "df1['upper'] = df1['co2'] + (2 * df2['co2'])\n",
    "df1['lower'] = df1['co2'] - (2 * df2['co2'])\n",
    "\n",
    "df1.plot(figsize=(8,4))\n",
    "\n",
    "plt.xlabel('Date')\n",
    "plt.ylabel('CO2 Levels')\n",
    "plt.title('Rolling Mean and Variance CO2 Levels')\n",
    "plt.show()"
   ]
  },
  {
   "cell_type": "markdown",
   "metadata": {
    "id": "kM_kkHvitpsb"
   },
   "source": [
    "## Plotting Aggregate Value Models"
   ]
  },
  {
   "cell_type": "markdown",
   "metadata": {
    "id": "eqX7NHNstxzD"
   },
   "source": [
    "### Displaying aggregated values"
   ]
  },
  {
   "cell_type": "code",
   "execution_count": 29,
   "metadata": {
    "colab": {
     "base_uri": "https://localhost:8080/"
    },
    "id": "hR8IHKAfQeqd",
    "outputId": "1d10c7e2-c0a0-47c6-f382-609fab754f94"
   },
   "outputs": [
    {
     "data": {
      "text/plain": [
       "DatetimeIndex(['1958-03-29', '1958-04-05', '1958-04-12', '1958-04-19',\n",
       "               '1958-04-26', '1958-05-03', '1958-05-10', '1958-05-17',\n",
       "               '1958-05-24', '1958-05-31',\n",
       "               ...\n",
       "               '2001-10-27', '2001-11-03', '2001-11-10', '2001-11-17',\n",
       "               '2001-11-24', '2001-12-01', '2001-12-08', '2001-12-15',\n",
       "               '2001-12-22', '2001-12-29'],\n",
       "              dtype='datetime64[ns]', name='datestamp', length=2284, freq=None)"
      ]
     },
     "execution_count": 29,
     "metadata": {},
     "output_type": "execute_result"
    }
   ],
   "source": [
    "df.index"
   ]
  },
  {
   "cell_type": "markdown",
   "metadata": {
    "id": "tO8gbrH-usIC"
   },
   "source": [
    "Extracting the month in each dates of the dataframe"
   ]
  },
  {
   "cell_type": "code",
   "execution_count": 32,
   "metadata": {
    "colab": {
     "base_uri": "https://localhost:8080/"
    },
    "id": "yz6sQvNfQmNd",
    "outputId": "c0f68cab-d545-4d80-ac73-4a02d429451e"
   },
   "outputs": [
    {
     "data": {
      "text/plain": [
       "Int64Index([ 3,  4,  4,  4,  4,  5,  5,  5,  5,  5,\n",
       "            ...\n",
       "            10, 11, 11, 11, 11, 12, 12, 12, 12, 12],\n",
       "           dtype='int64', name='datestamp', length=2284)"
      ]
     },
     "execution_count": 32,
     "metadata": {},
     "output_type": "execute_result"
    }
   ],
   "source": [
    "df.index.month"
   ]
  },
  {
   "cell_type": "markdown",
   "metadata": {
    "id": "Z2C2ialbu1ID"
   },
   "source": [
    "Extracting the year in each dates of the dataframe"
   ]
  },
  {
   "cell_type": "code",
   "execution_count": 33,
   "metadata": {
    "colab": {
     "base_uri": "https://localhost:8080/"
    },
    "id": "xQ6hL7WyRHjF",
    "outputId": "a7ef659a-2aeb-4659-c011-0057c19e8c20"
   },
   "outputs": [
    {
     "data": {
      "text/plain": [
       "Int64Index([1958, 1958, 1958, 1958, 1958, 1958, 1958, 1958, 1958, 1958,\n",
       "            ...\n",
       "            2001, 2001, 2001, 2001, 2001, 2001, 2001, 2001, 2001, 2001],\n",
       "           dtype='int64', name='datestamp', length=2284)"
      ]
     },
     "execution_count": 33,
     "metadata": {},
     "output_type": "execute_result"
    }
   ],
   "source": [
    "df.index.year"
   ]
  },
  {
   "cell_type": "code",
   "execution_count": 34,
   "metadata": {
    "colab": {
     "base_uri": "https://localhost:8080/",
     "height": 325
    },
    "id": "FX2lbNioRKGO",
    "outputId": "790886d4-46ee-4117-bf1b-d7157c12bf16"
   },
   "outputs": [
    {
     "data": {
      "image/png": "[encoded data removed]",
      "text/plain": [
       "<Figure size 576x288 with 1 Axes>"
      ]
     },
     "metadata": {},
     "output_type": "display_data"
    }
   ],
   "source": [
    "index_month = df.index.month  #Getting month for each dates in the index of dataframe\n",
    "\n",
    "df_month = df.groupby(index_month).mean()  #Computing the mean CO2 levels for each month of the year\n",
    "\n",
    "df_month.plot(figsize=(8,4))  #Plotting the mean CO2 levels for each month of the year\n",
    "\n",
    "plt.title('Average Monthly Levels of CO2')\n",
    "plt.xlabel('Months of the Year')\n",
    "plt.ylabel(\"CO2 Levels\")\n",
    "plt.show() #show plot"
   ]
  },
  {
   "cell_type": "code",
   "execution_count": 36,
   "metadata": {
    "colab": {
     "base_uri": "https://localhost:8080/",
     "height": 325
    },
    "id": "mqmdmXecRZwW",
    "outputId": "5469c160-44a7-45f7-d718-77ec7754531a"
   },
   "outputs": [
    {
     "data": {
      "image/png": "[encoded data removed]",
      "text/plain": [
       "<Figure size 576x288 with 1 Axes>"
      ]
     },
     "metadata": {},
     "output_type": "display_data"
    }
   ],
   "source": [
    "index_year = df.index.year  #Getting year for each dates in the index of dataframe\n",
    "\n",
    "df_year = df.groupby(index_year).mean()  #Computing the mean CO2 levels for each year\n",
    "\n",
    "df_year.plot(figsize=(8,4))  #Plotting the mean CO2 levels for each year\n",
    "\n",
    "plt.title(\"Yearly CO2 Levels\")\n",
    "plt.xlabel(\"Year\")\n",
    "plt.ylabel(\"CO2 Levels\")\n",
    "plt.show()  #show plot"
   ]
  },
  {
   "cell_type": "markdown",
   "metadata": {
    "id": "S9texcpqvlEv"
   },
   "source": [
    "## Boxplots\n",
    "\n",
    "Boxplots represent a graphical rendition of the minimum, median, quartiles, and maximum of our data. \n",
    "\n",
    "We can generate a boxplot by calling the `.boxplot()` method on a DataFrame."
   ]
  },
  {
   "cell_type": "code",
   "execution_count": 37,
   "metadata": {
    "colab": {
     "base_uri": "https://localhost:8080/",
     "height": 282
    },
    "id": "ipG9AU6vRqMc",
    "outputId": "b069253c-330e-4723-bb88-d9d2323e3c7f"
   },
   "outputs": [
    {
     "data": {
      "image/png": "[encoded data removed]",
      "text/plain": [
       "<Figure size 432x288 with 1 Axes>"
      ]
     },
     "metadata": {},
     "output_type": "display_data"
    }
   ],
   "source": [
    "df.boxplot()  #Generates boxplot\n",
    "plt.show()  #show plot"
   ]
  },
  {
   "cell_type": "markdown",
   "metadata": {
    "id": "UYf9OHp4v6Xm"
   },
   "source": [
    "## Histograms\n",
    "\n",
    "Another method to produce visual summaries is by leveraging histograms, which allows us to inspect the data and uncover its underlying distribution, as well as the presence of outliers and overall spread.\n",
    "\n",
    "Here, we used the standard `.plot()` method but specified the kind argument to be `'hist'`. In addition, we also added the `bins=100` parameter, which specifies how many intervals (i.e bins) we should cut our data into."
   ]
  },
  {
   "cell_type": "code",
   "execution_count": 60,
   "metadata": {
    "colab": {
     "base_uri": "https://localhost:8080/",
     "height": 282
    },
    "id": "BSDkcDhYSNd6",
    "outputId": "33ee7273-283b-41c2-b6de-aceaeb660733"
   },
   "outputs": [
    {
     "data": {
      "image/png": "[encoded data removed]",
      "text/plain": [
       "<Figure size 432x288 with 1 Axes>"
      ]
     },
     "metadata": {
      "tags": []
     },
     "output_type": "display_data"
    }
   ],
   "source": [
    "df.plot(kind='hist', bins=100)  #generates histogram with 100 bins\n",
    "plt.show()  #show plot"
   ]
  },
  {
   "cell_type": "markdown",
   "metadata": {
    "id": "_DXjkal7wWo6"
   },
   "source": [
    "## Density Plots\n",
    "\n",
    "In practice, histograms can be a substandard method for assessing the distribution of our data because they can be strongly affected by the number of bins that have been specified. Instead, kernel density plots represent a more effective way to view the distribution of our data.\n",
    "\n",
    "The standard `.plot()` method is specified with the kind argument set to `'density'`. We also specified an additional parameter `linewidth`, which controls the width of the line to be plotted."
   ]
  },
  {
   "cell_type": "code",
   "execution_count": 38,
   "metadata": {
    "colab": {
     "base_uri": "https://localhost:8080/",
     "height": 282
    },
    "id": "qL2hYvOBSnNP",
    "outputId": "cf520119-d07a-4a21-c732-6137ccb6cc46"
   },
   "outputs": [
    {
     "data": {
      "image/png": "[encoded data removed]",
      "text/plain": [
       "<Figure size 432x288 with 1 Axes>"
      ]
     },
     "metadata": {},
     "output_type": "display_data"
    }
   ],
   "source": [
    "df.plot(kind='density', linewidth=2)  #generates density plot from the dataframe\n",
    "plt.show()  #show plot"
   ]
  },
  {
   "cell_type": "markdown",
   "metadata": {
    "id": "6rs-7sF0wuQS"
   },
   "source": [
    "## Conclusion\n",
    "\n",
    "In this jupyter notebook, we learnt a deeper understanding of our time series data by computing summary statistics and plotting aggregated values of our data."
   ]
  }
 ],
 "metadata": {
  "colab": {
   "collapsed_sections": [],
   "name": "Visualizing_time_series_data_in_python_Datacamp_ch-2.ipynb",
   "provenance": []
  },
  "kernelspec": {
   "display_name": "Python 3",
   "language": "python",
   "name": "python3"
  },
  "language_info": {
   "codemirror_mode": {
    "name": "ipython",
    "version": 3
   },
   "file_extension": ".py",
   "mimetype": "text/x-python",
   "name": "python",
   "nbconvert_exporter": "python",
   "pygments_lexer": "ipython3",
   "version": "3.8.8"
  }
 },
 "nbformat": 4,
 "nbformat_minor": 1
}
